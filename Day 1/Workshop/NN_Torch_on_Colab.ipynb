{
  "nbformat": 4,
  "nbformat_minor": 0,
  "metadata": {
    "colab": {
      "name": "NN Torch on Colab",
      "provenance": [],
      "collapsed_sections": []
    },
    "kernelspec": {
      "name": "python3",
      "display_name": "Python 3"
    },
    "accelerator": "GPU"
  },
  "cells": [
    {
      "cell_type": "code",
      "metadata": {
        "id": "9kXgoGREmTqz",
        "colab_type": "code",
        "colab": {
          "base_uri": "https://localhost:8080/",
          "height": 71
        },
        "outputId": "d7ced9c7-3ee6-4c07-d7b3-ef36c70479a2"
      },
      "source": [
        "!pip install torch"
      ],
      "execution_count": 4,
      "outputs": [
        {
          "output_type": "stream",
          "text": [
            "Requirement already satisfied: torch in /usr/local/lib/python3.6/dist-packages (1.5.1+cu101)\n",
            "Requirement already satisfied: numpy in /usr/local/lib/python3.6/dist-packages (from torch) (1.18.5)\n",
            "Requirement already satisfied: future in /usr/local/lib/python3.6/dist-packages (from torch) (0.16.0)\n"
          ],
          "name": "stdout"
        }
      ]
    },
    {
      "cell_type": "code",
      "metadata": {
        "id": "Y5RZuZR8m88X",
        "colab_type": "code",
        "colab": {
          "base_uri": "https://localhost:8080/",
          "height": 142
        },
        "outputId": "0db29557-909f-4e63-8c04-3596a8bb21ee"
      },
      "source": [
        "from tqdm import tqdm\n",
        "import numpy as np\n",
        "\n",
        "import torch\n",
        "from torch import nn\n",
        "from torch import tensor\n",
        "from torch import optim\n",
        "\n",
        "import matplotlib.pyplot as plt\n",
        "\n",
        "torch.manual_seed(42)\n",
        "device = 'cuda' if torch.cuda.is_available() else 'cpu'\n",
        "\n",
        "\n",
        "# XOR gate inputs and outputs.\n",
        "X = xor_input = tensor([[0,0], [0,1], [1,0], [1,1]]).float().to(device)\n",
        "Y = xor_output = tensor([[0],[1],[1],[0]]).float().to(device)\n",
        "\n",
        "# Use tensor.shape to get the shape of the matrix/tensor.\n",
        "num_data, input_dim = X.shape\n",
        "print('Inputs Dim:', input_dim) # i.e. n=2 \n",
        "\n",
        "num_data, output_dim = Y.shape\n",
        "print('Output Dim:', output_dim) \n",
        "print('No. of Data:', num_data) # i.e. n=4\n",
        "print(Y)"
      ],
      "execution_count": 21,
      "outputs": [
        {
          "output_type": "stream",
          "text": [
            "Inputs Dim: 2\n",
            "Output Dim: 1\n",
            "No. of Data: 4\n",
            "tensor([[0.],\n",
            "        [1.],\n",
            "        [1.],\n",
            "        [0.]], device='cuda:0')\n"
          ],
          "name": "stdout"
        }
      ]
    },
    {
      "cell_type": "code",
      "metadata": {
        "id": "yITBH8W2b-cU",
        "colab_type": "code",
        "colab": {}
      },
      "source": [
        "\n",
        "import pandas as pd\n",
        "\n",
        "news=pd.read_csv('transfusion.data.csv')\n",
        "news.head()\n",
        "a = news.groupby(\"Potential_donator\")\n",
        "print(a.head())\n",
        "print(a.describe())\n",
        "print(news[0])\n",
        "\n",
        "\n"
      ],
      "execution_count": null,
      "outputs": []
    },
    {
      "cell_type": "code",
      "metadata": {
        "id": "EwAdpZG5d3Bc",
        "colab_type": "code",
        "colab": {}
      },
      "source": [
        "X_Data = news[['Recency','Frequency','Total','Months_since_last']].values\n",
        "y_Data = news[['Potential_donator']].values\n",
        "\n",
        "X = torch.from_numpy(X_Data).float().to(device)\n",
        "Y = torch.from_numpy(y_Data).float().to(device)\n",
        "\n",
        "# Use tensor.shape to get the shape of the matrix/tensor.\n",
        "num_data, input_dim = X.shape\n",
        "print('Inputs Dim:', input_dim) # i.e. n=2 \n",
        "\n",
        "num_data, output_dim = Y.shape\n",
        "print('Output Dim:', output_dim) \n",
        "print('No. of Data:', num_data) # i.e. n=4\n",
        "\n",
        "print(Y)"
      ],
      "execution_count": null,
      "outputs": []
    },
    {
      "cell_type": "code",
      "metadata": {
        "id": "0VagG939nXDr",
        "colab_type": "code",
        "colab": {
          "base_uri": "https://localhost:8080/",
          "height": 301
        },
        "outputId": "bfb28784-8312-4e6f-c17a-0a09371ed46b"
      },
      "source": [
        "# Step 1: Initialization. \n",
        "\n",
        "# Initialize the model.\n",
        "# Set the hidden dimension size.\n",
        "hidden_dim = 10\n",
        "# Use Sequential to define a simple feed-forward network.\n",
        "model = nn.Sequential(\n",
        "            # Use nn.Linear to get our simple perceptron.\n",
        "            nn.Linear(input_dim, hidden_dim),\n",
        "            # Use nn.Sigmoid to get our sigmoid non-linearity.\n",
        "            nn.Sigmoid(),\n",
        "            # Second layer neurons.\n",
        "            nn.Linear(hidden_dim, output_dim),\n",
        "            nn.Sigmoid()\n",
        "        ).to(device)\n",
        "\n",
        "# Initialize the optimizer\n",
        "learning_rate = 0.3\n",
        "optimizer = optim.SGD(model.parameters(), lr=learning_rate)\n",
        "\n",
        "# Initialize the loss function.\n",
        "criterion = nn.MSELoss()\n",
        "\n",
        "# Initialize the stopping criteria\n",
        "# For simplicity, just stop training after certain no. of epochs.\n",
        "num_epochs = 50\n",
        "\n",
        "losses = [] # Keeps track of the loses.\n",
        "\n",
        "# Step 2-4 of training routine.\n",
        "\n",
        "for _e in tqdm(range(num_epochs)):\n",
        "    # Reset the gradient after every epoch. \n",
        "    optimizer.zero_grad() \n",
        "    # Step 2: Foward Propagation\n",
        "    predictions = model(X)\n",
        "    \n",
        "    # Step 3: Back Propagation \n",
        "    # Calculate the cost between the predictions and the truth.\n",
        "    loss = criterion(predictions, Y)\n",
        "    # Remember to back propagate the loss you've computed above.\n",
        "    loss.backward()\n",
        "    \n",
        "    # Step 4: Optimizer take a step and update the weights.\n",
        "    optimizer.step()\n",
        "    \n",
        "    # Log the loss value as we proceed through the epochs.\n",
        "    losses.append(loss.data.item())\n",
        "    \n",
        "\n",
        "plt.plot(losses)"
      ],
      "execution_count": 25,
      "outputs": [
        {
          "output_type": "stream",
          "text": [
            "100%|██████████| 50/50 [00:00<00:00, 763.49it/s]\n"
          ],
          "name": "stderr"
        },
        {
          "output_type": "execute_result",
          "data": {
            "text/plain": [
              "[<matplotlib.lines.Line2D at 0x7f6fadc5e048>]"
            ]
          },
          "metadata": {
            "tags": []
          },
          "execution_count": 25
        },
        {
          "output_type": "display_data",
          "data": {
            "image/png": "[encoded data removed]",
            "text/plain": [
              "<Figure size 432x288 with 1 Axes>"
            ]
          },
          "metadata": {
            "tags": [],
            "needs_background": "light"
          }
        }
      ]
    },
    {
      "cell_type": "code",
      "metadata": {
        "id": "J9hXjQSTNwd6",
        "colab_type": "code",
        "colab": {
          "base_uri": "https://localhost:8080/",
          "height": 303
        },
        "outputId": "e52f45be-6d4f-4287-9773-4f5bd0a69c29"
      },
      "source": [
        "import torch\n",
        "from torch import nn\n",
        "\n",
        "x = torch.tensor(np.arange(-10, 10, 0.1))\n",
        "\n",
        "# See https://pytorch.org/docs/stable/nn.html#non-linear-activations-weighted-sum-nonlinearity \n",
        "a1 = nn.Sigmoid()\n",
        "a2 = nn.Tanh()    # Fill in the tanh function.\n",
        "a3 = nn.Softmax() # Fill in the softmax function.\n",
        "a4 = nn.ReLU()    # Fill-in the RELU func.\n",
        "a5 = nn.SELU()    # Fill in the SELU func.\n",
        "\n",
        "# pyplot only accepts numpy arrays...\n",
        "# Pardon the laziness\n",
        "y1 = a1(x).numpy() \n",
        "y2 = a2(x).numpy() \n",
        "y3 = a3(x).numpy() \n",
        "y4 = a4(x).numpy() \n",
        "y5 = a5(x).numpy()\n",
        "x = x.numpy()\n",
        "\n",
        "plt.plot(x,y1, label='sigmoid')\n",
        "plt.plot(x,y2, label='tanh')\n",
        "plt.plot(x,y3, label='softmax')\n",
        "plt.plot(x,y4, label='relu')\n",
        "plt.plot(x,y5, label='selu')\n",
        "plt.legend(loc='upper left')\n",
        "plt.show()"
      ],
      "execution_count": 5,
      "outputs": [
        {
          "output_type": "stream",
          "text": [
            "/usr/local/lib/python3.6/dist-packages/ipykernel_launcher.py:17: UserWarning: Implicit dimension choice for softmax has been deprecated. Change the call to include dim=X as an argument.\n"
          ],
          "name": "stderr"
        },
        {
          "output_type": "display_data",
          "data": {
            "image/png": "[encoded data removed]",
            "text/plain": [
              "<Figure size 432x288 with 1 Axes>"
            ]
          },
          "metadata": {
            "tags": [],
            "needs_background": "light"
          }
        }
      ]
    }
  ]
}